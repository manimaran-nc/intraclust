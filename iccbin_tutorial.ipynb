{
 "cells": [
  {
   "cell_type": "code",
   "execution_count": 1,
   "metadata": {},
   "outputs": [],
   "source": [
    "import pandas as pd"
   ]
  },
  {
   "cell_type": "code",
   "execution_count": null,
   "metadata": {},
   "outputs": [],
   "source": [
   ]
  },
  {
   "cell_type": "code",
   "execution_count": 2,
   "metadata": {},
   "outputs": [],
   "source": [
    "cluster = pd.read_csv(\"InputDataTest.csv\",index_col=None)"
   ]
  },
  {
   "cell_type": "code",
   "execution_count": 3,
   "metadata": {},
   "outputs": [],
   "source": [
    "from intraclust import iccbinary as iccbin"
   ]
  },
  {
   "cell_type": "code",
   "execution_count": 4,
   "metadata": {},
   "outputs": [
    {
     "name": "stdout",
     "output_type": "stream",
     "text": [
      "AOV 0.17796960508244733\n"
     ]
    }
   ],
   "source": [
    "#me = moment_estimators(yi=yi,ni=ni,k=k)\n",
    "print(\"AOV\",iccbin.aov(cluster))"
   ]
  },
  {
   "cell_type": "code",
   "execution_count": 5,
   "metadata": {},
   "outputs": [
    {
     "name": "stdout",
     "output_type": "stream",
     "text": [
      "MOD.AOV 0.16798797480519748\n"
     ]
    }
   ],
   "source": [
    "print(\"MOD.AOV\",iccbin.mod_aov(cluster))"
   ]
  },
  {
   "cell_type": "code",
   "execution_count": 6,
   "metadata": {},
   "outputs": [
    {
     "name": "stdout",
     "output_type": "stream",
     "text": [
      "KEQ 0.207967245011507\n"
     ]
    }
   ],
   "source": [
    "print(\"KEQ\",iccbin.keq(cluster))"
   ]
  },
  {
   "cell_type": "code",
   "execution_count": 7,
   "metadata": {},
   "outputs": [
    {
     "name": "stdout",
     "output_type": "stream",
     "text": [
      "KEQS 0.19901139145866442\n"
     ]
    }
   ],
   "source": [
    "print(\"KEQS\",iccbin.keqs(cluster))"
   ]
  },
  {
   "cell_type": "code",
   "execution_count": 8,
   "metadata": {},
   "outputs": [
    {
     "name": "stdout",
     "output_type": "stream",
     "text": [
      "KPR 0.21492787298629543\n"
     ]
    }
   ],
   "source": [
    "print(\"KPR\",iccbin.kpr(cluster))"
   ]
  },
  {
   "cell_type": "code",
   "execution_count": 9,
   "metadata": {},
   "outputs": [
    {
     "name": "stdout",
     "output_type": "stream",
     "text": [
      "KPRS 0.20579124993665507\n"
     ]
    }
   ],
   "source": [
    "print(\"KPRS\",iccbin.kprs(cluster))"
   ]
  },
  {
   "cell_type": "code",
   "execution_count": 10,
   "metadata": {},
   "outputs": [
    {
     "name": "stdout",
     "output_type": "stream",
     "text": [
      "STAB 0.20190805761364114\n"
     ]
    }
   ],
   "source": [
    "print(\"STAB\",iccbin.stab(cluster))"
   ]
  },
  {
   "cell_type": "code",
   "execution_count": 11,
   "metadata": {},
   "outputs": [
    {
     "name": "stdout",
     "output_type": "stream",
     "text": [
      "UB 0.1781574915229478\n"
     ]
    }
   ],
   "source": [
    "print(\"UB\",iccbin.ub(cluster))"
   ]
  },
  {
   "cell_type": "code",
   "execution_count": 12,
   "metadata": {},
   "outputs": [
    {
     "name": "stdout",
     "output_type": "stream",
     "text": [
      "FLEISS_CUZICK 0.17189050669130312\n"
     ]
    }
   ],
   "source": [
    "print(\"FLEISS_CUZICK\",iccbin.fleiss_cuzick(cluster))"
   ]
  },
  {
   "cell_type": "code",
   "execution_count": 13,
   "metadata": {},
   "outputs": [
    {
     "name": "stdout",
     "output_type": "stream",
     "text": [
      "MAK 0.17120412515977146\n"
     ]
    }
   ],
   "source": [
    "print(\"MAK\",iccbin.mak(cluster))"
   ]
  },
  {
   "cell_type": "code",
   "execution_count": 14,
   "metadata": {},
   "outputs": [
    {
     "name": "stdout",
     "output_type": "stream",
     "text": [
      "PEQ 0.1770272254101668\n"
     ]
    }
   ],
   "source": [
    "print(\"PEQ\",iccbin.peq(cluster))"
   ]
  },
  {
   "cell_type": "code",
   "execution_count": 15,
   "metadata": {},
   "outputs": [
    {
     "name": "stdout",
     "output_type": "stream",
     "text": [
      "PGP 0.16532546228764802\n"
     ]
    }
   ],
   "source": [
    "print(\"PGP\",iccbin.pgp(cluster))"
   ]
  },
  {
   "cell_type": "code",
   "execution_count": 16,
   "metadata": {},
   "outputs": [
    {
     "name": "stdout",
     "output_type": "stream",
     "text": [
      "PPR 0.1716500068551044\n"
     ]
    }
   ],
   "source": [
    "print(\"PPR\",iccbin.ppr(cluster))"
   ]
  },
  {
   "cell_type": "code",
   "execution_count": null,
   "metadata": {},
   "outputs": [],
   "source": []
  },
  {
   "cell_type": "code",
   "execution_count": null,
   "metadata": {},
   "outputs": [],
   "source": []
  },
  {
   "cell_type": "code",
   "execution_count": null,
   "metadata": {},
   "outputs": [],
   "source": []
  }
 ],
 "metadata": {
  "kernelspec": {
   "display_name": "Python 3",
   "language": "python",
   "name": "python3"
  },
  "language_info": {
   "codemirror_mode": {
    "name": "ipython",
    "version": 3
   },
   "file_extension": ".py",
   "mimetype": "text/x-python",
   "name": "python",
   "nbconvert_exporter": "python",
   "pygments_lexer": "ipython3",
   "version": "3.7.5"
  }
 },
 "nbformat": 4,
 "nbformat_minor": 2
}
